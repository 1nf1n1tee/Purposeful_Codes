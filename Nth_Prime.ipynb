{
  "nbformat": 4,
  "nbformat_minor": 0,
  "metadata": {
    "colab": {
      "provenance": [],
      "authorship_tag": "ABX9TyMTaW22GuVJkqfrZYKMym3Z",
      "include_colab_link": true
    },
    "kernelspec": {
      "name": "python3",
      "display_name": "Python 3"
    },
    "language_info": {
      "name": "python"
    }
  },
  "cells": [
    {
      "cell_type": "markdown",
      "metadata": {
        "id": "view-in-github",
        "colab_type": "text"
      },
      "source": [
        "<a href=\"https://colab.research.google.com/github/1nf1n1tee/Purposeful_Codes/blob/main/Nth_Prime.ipynb\" target=\"_parent\"><img src=\"https://colab.research.google.com/assets/colab-badge.svg\" alt=\"Open In Colab\"/></a>"
      ]
    },
    {
      "cell_type": "code",
      "execution_count": 1,
      "metadata": {
        "colab": {
          "base_uri": "https://localhost:8080/"
        },
        "id": "Nfgv9Q0qJBDv",
        "outputId": "43828799-593f-4181-82a1-85c4651d811f"
      },
      "outputs": [
        {
          "name": "stdout",
          "output_type": "stream",
          "text": [
            "Enter serial 1\n",
            "the 1th prime number is 2\n",
            "Enter serial 2\n",
            "the 2th prime number is 3\n",
            "Enter serial 3\n",
            "the 3th prime number is 5\n",
            "Enter serial \n"
          ]
        }
      ],
      "source": [
        "while True:\n",
        "  try:\n",
        "    inp = int(input('Enter serial '))\n",
        "    count = 1\n",
        "    li = []\n",
        "    n = 2\n",
        "    while count != inp+1:\n",
        "      checker = False\n",
        "      for i in range(2,n):\n",
        "        if n%i == 0:\n",
        "          checker = True\n",
        "          break\n",
        "      if checker == False:\n",
        "        li.append(n)\n",
        "        count += 1\n",
        "      n += 1\n",
        "    #print(li)\n",
        "    print(f'the {inp}th prime number is {li[inp-1]}')\n",
        "  except:\n",
        "    break"
      ]
    }
  ]
}