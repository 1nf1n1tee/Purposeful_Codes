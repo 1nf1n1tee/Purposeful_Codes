{
  "nbformat": 4,
  "nbformat_minor": 0,
  "metadata": {
    "colab": {
      "provenance": [],
      "authorship_tag": "ABX9TyOVp8kWcBJ7HN5G7eCh98z9",
      "include_colab_link": true
    },
    "kernelspec": {
      "name": "python3",
      "display_name": "Python 3"
    },
    "language_info": {
      "name": "python"
    }
  },
  "cells": [
    {
      "cell_type": "markdown",
      "metadata": {
        "id": "view-in-github",
        "colab_type": "text"
      },
      "source": [
        "<a href=\"https://colab.research.google.com/github/1nf1n1tee/Purposeful_Codes/blob/main/Fibonacci.ipynb\" target=\"_parent\"><img src=\"https://colab.research.google.com/assets/colab-badge.svg\" alt=\"Open In Colab\"/></a>"
      ]
    },
    {
      "cell_type": "code",
      "source": [
        "def fib(n):\n",
        "  if n <= 2:\n",
        "    return n-1\n",
        "  else:\n",
        "    return fib(n-1) + fib(n-2)\n",
        "\n",
        "fib(100)"
      ],
      "metadata": {
        "id": "qH-7Syt2V8TR"
      },
      "execution_count": null,
      "outputs": []
    },
    {
      "cell_type": "code",
      "execution_count": null,
      "metadata": {
        "id": "NzMLxdxtV69v"
      },
      "outputs": [],
      "source": [
        "def mfib(n,m = True):\n",
        "  if m == True:\n",
        "    global dic\n",
        "    dic = {1:0,2:1}\n",
        "    return mfib(n,False)\n",
        "  else:\n",
        "    if n <= 2:\n",
        "      return n-1\n",
        "    else:\n",
        "      if n not in dic:\n",
        "        var = mfib(n-1,False) + mfib(n-2,False)\n",
        "        dic[n] = var\n",
        "        return var\n",
        "      else:\n",
        
        "        return dic[n]\n",
        "\n",
        "mfib(100)"
      ]
    }
  ]
}
