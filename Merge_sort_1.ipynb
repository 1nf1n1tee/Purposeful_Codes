{
  "nbformat": 4,
  "nbformat_minor": 0,
  "metadata": {
    "colab": {
      "provenance": [],
      "authorship_tag": "ABX9TyNhZ4WLp+vvTRL1g/4HLADN",
      "include_colab_link": true
    },
    "kernelspec": {
      "name": "python3",
      "display_name": "Python 3"
    },
    "language_info": {
      "name": "python"
    }
  },
  "cells": [
    {
      "cell_type": "markdown",
      "metadata": {
        "id": "view-in-github",
        "colab_type": "text"
      },
      "source": [
        "<a href=\"https://colab.research.google.com/github/1nf1n1tee/Purposeful_Codes/blob/main/Merge_sort_1.ipynb\" target=\"_parent\"><img src=\"https://colab.research.google.com/assets/colab-badge.svg\" alt=\"Open In Colab\"/></a>"
      ]
    },
    {
      "cell_type": "code",
      "execution_count": 28,
      "metadata": {
        "id": "ECUDCAXEOmvL"
      },
      "outputs": [],
      "source": [
        "def merge_sort(arr):\n",
        "  if len(arr) == 1:\n",
        "    return arr\n",
        "  else:\n",
        "    mid = len(arr)//2\n",
        "    left = merge_sort(arr[:mid])\n",
        "    right = merge_sort(arr[mid:])\n",
        "    return merge(left,right)\n",
        "\n",
        "\n",
        "def merge(arr_1,arr_2):\n",
        "  i = j = 0\n",
        "  new_arr = []\n",
        "  while i < len(arr_1) and j < len(arr_2):\n",
        "    if arr_1[i] <= arr_2[j]:\n",
        "      new_arr.append(arr_1[i])\n",
        "      i+=1\n",
        "    else:\n",
        "      new_arr.append(arr_2[j])\n",
        "      j+=1\n",
        "  new_arr += arr_1[i:]\n",
        "  new_arr += arr_2[j:]\n",
        "  return new_arr"
      ]
    },
    {
      "cell_type": "code",
      "source": [
        "array = [5, 1, 7, 8, 72, 6, 8, 5, 0, 6, 1]\n",
        "print(merge_sort(array))"
      ],
      "metadata": {
        "colab": {
          "base_uri": "https://localhost:8080/"
        },
        "id": "BETiHmUROz5R",
        "outputId": "9fd1bce5-15a7-4ddb-e77e-d859b0b289db"
      },
      "execution_count": 32,
      "outputs": [
        {
          "output_type": "stream",
          "name": "stdout",
          "text": [
            "[0, 1, 1, 5, 5, 6, 6, 7, 8, 8, 72]\n"
          ]
        }
      ]
    },
    {
      "cell_type": "code",
      "source": [],
      "metadata": {
        "id": "wFmwUTTqZDIP"
      },
      "execution_count": null,
      "outputs": []
    }
  ]
}